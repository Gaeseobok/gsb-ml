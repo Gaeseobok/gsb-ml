{
  "cells": [
    {
      "cell_type": "markdown",
      "metadata": {
        "id": "view-in-github",
        "colab_type": "text"
      },
      "source": [
        "<a href=\"https://colab.research.google.com/github/Gaeseobok/gsb-ml/blob/main/emo7apply.ipynb\" target=\"_parent\"><img src=\"https://colab.research.google.com/assets/colab-badge.svg\" alt=\"Open In Colab\"/></a>"
      ]
    },
    {
      "cell_type": "markdown",
      "metadata": {
        "id": "sers75lGNBKV"
      },
      "source": [
        "https://github.com/akmadan/Emotion_Detection_CNN/blob/main/main.py"
      ]
    },
    {
      "cell_type": "code",
      "execution_count": null,
      "metadata": {
        "id": "dllDVmNpH2M_"
      },
      "outputs": [],
      "source": [
        "import tensorflow as tf\n",
        "import cv2\n",
        "import os\n",
        "import matplotlib.pyplot as plt\n",
        "from tensorflow import keras\n",
        "import numpy as np\n",
        "from keras.models import load_model\n",
        "from google.colab import files\n",
        "from google.colab.patches import cv2_imshow\n",
        "from time import sleep\n",
        "from keras.preprocessing.image import img_to_array\n",
        "from keras.preprocessing import image\n",
        "\n",
        "# face_classifier = cv2.CascadeClassifier(/content/drive/MyDrive/haarcascade_frontalface_default.xml)\n",
        "face_classifier = cv2.CascadeClassifier(cv2.data.haarcascades + 'haarcascade_frontalface_default.xml')\n",
        "\n",
        "classifier =load_model('/content/drive/MyDrive/model.h5')\n",
        "\n",
        "emotion_labels = ['Angry','Disgust','Fear','Happy','Neutral', 'Sad', 'Surprise']\n",
        "\n",
        "filePath = '/content/drive/MyDrive/mp4/crying2.mp4'\n",
        "\n",
        "\n",
        "# 영상 객체(파일) 가져오기\n",
        "cap = cv2.VideoCapture(filePath)\n",
        "\n",
        "# 프레임을 정수형으로 형 변환\n",
        "frameWidth = int(cap.get(cv2.CAP_PROP_FRAME_WIDTH))\t# 영상의 넓이(가로) 프레임\n",
        "frameHeight = int(cap.get(cv2.CAP_PROP_FRAME_HEIGHT))\t# 영상의 높이(세로) 프레임\n",
        "\n",
        "frame_size = (frameWidth, frameHeight)\n",
        "print('frame_size={}'.format(frame_size))\n",
        "\n",
        "# 정수 형태로 변환하기 위해 round\n",
        "round_w = round(cap.get(cv2.CAP_PROP_FRAME_WIDTH))\n",
        "round_h = round(cap.get(cv2.CAP_PROP_FRAME_HEIGHT))\n",
        "fps = cap.get(cv2.CAP_PROP_FPS) # 카메라에 따라 값이 정상적, 비정상적\n",
        "\n",
        "# fourcc 값 받아오기, *는 문자를 풀어쓰는 방식, *'DIVX' == 'D', 'I', 'V', 'X'\n",
        "fourcc = cv2.VideoWriter_fourcc('D','I','V','X')\n",
        "\n",
        "# 웹캠으로 찰영한 영상을 저장하기\n",
        "# cv2.VideoWriter 객체 생성, 기존에 받아온 속성값 입력\n",
        "writer = cv2.VideoWriter('emo7_crying2_output.avi', fourcc, fps, (round_w, round_h), isColor = True)\n",
        "\n",
        "while True:\n",
        "  try:\n",
        "    _, frame = cap.read()\n",
        "    \n",
        "    labels = []\n",
        "    gray = cv2.cvtColor(frame, cv2.COLOR_BGR2GRAY)\n",
        "    faces = face_classifier.detectMultiScale(gray)\n",
        "\n",
        "    for (x,y,w,h) in faces:\n",
        "        cv2.rectangle(frame,(x,y),(x+w,y+h),(0,255,255),2)\n",
        "        roi_gray = gray[y:y+h,x:x+w]\n",
        "        roi_gray = cv2.resize(roi_gray,(48,48),interpolation=cv2.INTER_AREA)\n",
        "\n",
        "        if np.sum([roi_gray])!=0:\n",
        "            roi = roi_gray.astype('float')/255.0\n",
        "            roi = img_to_array(roi)\n",
        "            roi = np.expand_dims(roi,axis=0)\n",
        "\n",
        "            prediction = classifier.predict(roi)[0]\n",
        "            label=emotion_labels[prediction.argmax()]\n",
        "            label_position = (x,y)\n",
        "            cv2.putText(frame,label,label_position,cv2.FONT_HERSHEY_SIMPLEX,1,(0,255,0),2)\n",
        "\n",
        "            writer.write(frame) # 영상 데이터만 저장. 소리는 X\n",
        "            cv2_imshow(frame)\n",
        "\n",
        "        else:\n",
        "            cv2.putText(frame,'No Faces',(30,80),cv2.FONT_HERSHEY_SIMPLEX,1,(0,255,0),2)\n",
        "\n",
        "  except:\n",
        "      print(\"No face detected\")\n",
        "\n",
        "  if cv2.waitKey(1) & 0xFF == ord('q'):\n",
        "      break\n",
        "\n",
        "cap.release()\n",
        "cv2.destroyAllWindows()"
      ]
    }
  ],
  "metadata": {
    "accelerator": "GPU",
    "colab": {
      "collapsed_sections": [],
      "name": "emo7apply.ipynb",
      "provenance": [],
      "mount_file_id": "1hMsKZKCbTDCtHQLm6F71cDfnGk_Zyvkn",
      "authorship_tag": "ABX9TyOCiEn+1GE0+I0gvOOiTnyC",
      "include_colab_link": true
    },
    "kernelspec": {
      "display_name": "Python 3",
      "name": "python3"
    },
    "language_info": {
      "name": "python"
    }
  },
  "nbformat": 4,
  "nbformat_minor": 0
}