{
  "cells": [
    {
      "cell_type": "markdown",
      "metadata": {
        "id": "view-in-github",
        "colab_type": "text"
      },
      "source": [
        "<a href=\"https://colab.research.google.com/github/Gaeseobok/gsb-ml/blob/main/realtimeEmoRecogOpenCV.ipynb\" target=\"_parent\"><img src=\"https://colab.research.google.com/assets/colab-badge.svg\" alt=\"Open In Colab\"/></a>"
      ]
    },
    {
      "cell_type": "markdown",
      "source": [
        "딥페이스를 사용한 표정 탐지"
      ],
      "metadata": {
        "id": "I0uorUDF9ZMB"
      }
    },
    {
      "cell_type": "code",
      "execution_count": null,
      "metadata": {
        "id": "Y-k_GCr65blg"
      },
      "outputs": [],
      "source": [
        "!pip install deepface"
      ]
    },
    {
      "cell_type": "code",
      "execution_count": null,
      "metadata": {
        "id": "Y6FxjvLeh8dL"
      },
      "outputs": [],
      "source": [
        "from google.colab import drive\n",
        "drive.mount('/content/drive', force_remount=True)\n",
        "%cd drive/MyDrive/"
      ]
    },
    {
      "cell_type": "code",
      "execution_count": null,
      "metadata": {
        "colab": {
          "background_save": true
        },
        "id": "wzbNCuNC6X_1"
      },
      "outputs": [],
      "source": [
        "# realtime video demo for face emotion recognition\n",
        "\n",
        "import cv2\n",
        "from deepface import DeepFace\n",
        "import matplotlib.pyplot as plt\n",
        "import os\n",
        "\n",
        "from google.colab import files\n",
        "from google.colab.patches import cv2_imshow\n",
        "\n",
        "faceCascade = cv2.CascadeClassifier(cv2.data.haarcascades + 'haarcascade_frontalface_default.xml')\n",
        "\n",
        "'''\n",
        "cap = cv2.VideoCapture(1)\n",
        "# check if the webcam is open correctly\n",
        "if not cap.isOpened():\n",
        "  cap = cv2.VideoCapture(0)\n",
        "if not cap.isOpened():\n",
        "  raise IOError(\"Cannot open webcam\")\n",
        "'''\n",
        "\n",
        "filePath = 'Facial Expression.mp4'\n",
        "\n",
        "if os.path.isfile(filePath):\t# 해당 파일이 있는지 확인\n",
        "    # 영상 객체(파일) 가져오기\n",
        "    cap = cv2.VideoCapture(filePath)\n",
        "    \n",
        "    # 프레임을 정수형으로 형 변환\n",
        "    frameWidth = int(cap.get(cv2.CAP_PROP_FRAME_WIDTH))\t# 영상의 넓이(가로) 프레임\n",
        "    frameHeight = int(cap.get(cv2.CAP_PROP_FRAME_HEIGHT))\t# 영상의 높이(세로) 프레임\n",
        "    \n",
        "    frame_size = (frameWidth, frameHeight)\n",
        "    print('frame_size={}'.format(frame_size))\n",
        "\n",
        "    # 정수 형태로 변환하기 위해 round\n",
        "    round_w = round(cap.get(cv2.CAP_PROP_FRAME_WIDTH))\n",
        "    round_h = round(cap.get(cv2.CAP_PROP_FRAME_HEIGHT))\n",
        "    fps = cap.get(cv2.CAP_PROP_FPS) # 카메라에 따라 값이 정상적, 비정상적\n",
        "\n",
        "    # fourcc 값 받아오기, *는 문자를 풀어쓰는 방식, *'DIVX' == 'D', 'I', 'V', 'X'\n",
        "    fourcc = cv2.VideoWriter_fourcc('M','P','E','G')\n",
        "\n",
        "    # 웹캠으로 찰영한 영상을 저장하기\n",
        "    # cv2.VideoWriter 객체 생성, 기존에 받아온 속성값 입력\n",
        "    writer = cv2.VideoWriter('Facial Expression output.mp4', fourcc, fps, (round_w, round_h), isColor = True)\n",
        "\n",
        "    while True:\n",
        "      retval,frame = cap.read()  # read one image from a video\n",
        "\n",
        "      # 한 장의 이미지(frame)를 가져오기\n",
        "      # 영상 : 이미지(프레임)의 연속\n",
        "      # 정상적으로 읽어왔는지 -> retval\n",
        "      # 읽어온 프레임 -> frame\n",
        "\n",
        "      if not(retval):\t# 프레임정보를 정상적으로 읽지 못하면\n",
        "          break  # while문을 빠져나가기\n",
        "\n",
        "      # plt.imshow('frame', frame)\t# 프레임 보여주기\n",
        "      # key = cv2.waitKey(fps)  # fps msec동안 한 프레임을 보여준다\n",
        "      try:\n",
        "        result = DeepFace.analyze(frame, actions = ['emotion']) # only detect actions confined to emotions\n",
        "\n",
        "        gray = cv2.cvtColor(frame, cv2.COLOR_BGR2RGB)\n",
        "        # print(faceCascade.empty())\n",
        "        faces = faceCascade.detectMultiScale(gray,1.1,4)\n",
        "\n",
        "        # draw a rectangle around the faces\n",
        "        for(x,y,w,h) in faces:\n",
        "          cv2.rectangle(frame, (x,y),(x+w, y+h), (0,225,0), 2)\n",
        "\n",
        "        font = cv2.FONT_HERSHEY_SIMPLEX\n",
        "\n",
        "        # use putText() method for\n",
        "        # inserting text on video\n",
        "        cv2.putText(frame, result['dominant_emotion'],\n",
        "                (50,50), font, 3, (0,0,255), 2, cv2.LINE_4)\n",
        "        \n",
        "        #edge_color = cv2.cvtColor(frame , cv2.COLOR_BGR2RGB)\n",
        "        \n",
        "        writer.write(frame) # 영상 데이터만 저장. 소리는 X\n",
        "        cv2_imshow(frame)\n",
        "        #plt.imshow(edge_color)\n",
        "\n",
        "        print(result['dominant_emotion'])\n",
        "      \n",
        "      except:\n",
        "        print(\"No face detected\")\n",
        "\n",
        "      if cv2.waitKey(2) & 0xFF == ord('q'):\n",
        "        break\n",
        "\n",
        "    # result.to_video('result.mp4')\n",
        "    # files.download('result.mp4')\n",
        "\n",
        "    cap.release()\n",
        "    writer.release()\n",
        "    cv2.destroyAllWindows()\n",
        "else:\n",
        "    print(\"파일이 존재하지 않습니다.\")  "
      ]
    }
  ],
  "metadata": {
    "accelerator": "GPU",
    "colab": {
      "collapsed_sections": [],
      "name": "realtimeEmoRecogOpenCV.ipynb",
      "provenance": [],
      "authorship_tag": "ABX9TyNVq36jWd7LJt2fo+POEjpT",
      "include_colab_link": true
    },
    "kernelspec": {
      "display_name": "Python 3",
      "name": "python3"
    },
    "language_info": {
      "name": "python"
    }
  },
  "nbformat": 4,
  "nbformat_minor": 0
}